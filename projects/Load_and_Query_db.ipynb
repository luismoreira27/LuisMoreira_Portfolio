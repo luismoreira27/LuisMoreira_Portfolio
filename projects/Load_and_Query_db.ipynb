{
 "cells": [
  {
   "cell_type": "markdown",
   "id": "91ca1162-9c06-4eb3-9be5-e326b935a90d",
   "metadata": {},
   "source": [
    "# **Create, Load and Query a Dataset on a SQL Database**"
   ]
  },
  {
   "cell_type": "markdown",
   "id": "81624786-9e74-47d0-9b75-47642cc1b92b",
   "metadata": {},
   "source": [
    "# Loading necessary packages and changing working directory\n",
    "\n",
    "- The working direcory is where the dataset is stored"
   ]
  },
  {
   "cell_type": "code",
   "execution_count": 51,
   "id": "83ab2320-30d4-4cca-8c83-ee67a35daa7a",
   "metadata": {},
   "outputs": [],
   "source": [
    "import os\n",
    "os.chdir('C:/Users/luisp/Desktop/Biz/Datasets portefolio')\n",
    "\n",
    "import pandas as pd\n",
    "import sqlite3\n",
    "import matplotlib.pyplot as plt\n",
    "import seaborn as sns"
   ]
  },
  {
   "cell_type": "markdown",
   "id": "efee649f-d1be-47b9-8a6e-c38a99de7111",
   "metadata": {},
   "source": [
    "# Loading the CSV file using Pandas and showing the first 5 rows"
   ]
  },
  {
   "cell_type": "code",
   "execution_count": 54,
   "id": "af68f964-bfea-4eb7-93b0-59b1eedc9e5d",
   "metadata": {},
   "outputs": [
    {
     "data": {
      "text/html": [
       "<div>\n",
       "<style scoped>\n",
       "    .dataframe tbody tr th:only-of-type {\n",
       "        vertical-align: middle;\n",
       "    }\n",
       "\n",
       "    .dataframe tbody tr th {\n",
       "        vertical-align: top;\n",
       "    }\n",
       "\n",
       "    .dataframe thead th {\n",
       "        text-align: right;\n",
       "    }\n",
       "</style>\n",
       "<table border=\"1\" class=\"dataframe\">\n",
       "  <thead>\n",
       "    <tr style=\"text-align: right;\">\n",
       "      <th></th>\n",
       "      <th>InvoiceNo</th>\n",
       "      <th>StockCode</th>\n",
       "      <th>Description</th>\n",
       "      <th>Quantity</th>\n",
       "      <th>InvoiceDate</th>\n",
       "      <th>UnitPrice</th>\n",
       "      <th>CustomerID</th>\n",
       "      <th>Country</th>\n",
       "    </tr>\n",
       "  </thead>\n",
       "  <tbody>\n",
       "    <tr>\n",
       "      <th>0</th>\n",
       "      <td>536365</td>\n",
       "      <td>85123A</td>\n",
       "      <td>WHITE HANGING HEART T-LIGHT HOLDER</td>\n",
       "      <td>6</td>\n",
       "      <td>12/1/2010 8:26</td>\n",
       "      <td>2.55</td>\n",
       "      <td>17850.0</td>\n",
       "      <td>United Kingdom</td>\n",
       "    </tr>\n",
       "    <tr>\n",
       "      <th>1</th>\n",
       "      <td>536365</td>\n",
       "      <td>71053</td>\n",
       "      <td>WHITE METAL LANTERN</td>\n",
       "      <td>6</td>\n",
       "      <td>12/1/2010 8:26</td>\n",
       "      <td>3.39</td>\n",
       "      <td>17850.0</td>\n",
       "      <td>United Kingdom</td>\n",
       "    </tr>\n",
       "    <tr>\n",
       "      <th>2</th>\n",
       "      <td>536365</td>\n",
       "      <td>84406B</td>\n",
       "      <td>CREAM CUPID HEARTS COAT HANGER</td>\n",
       "      <td>8</td>\n",
       "      <td>12/1/2010 8:26</td>\n",
       "      <td>2.75</td>\n",
       "      <td>17850.0</td>\n",
       "      <td>United Kingdom</td>\n",
       "    </tr>\n",
       "    <tr>\n",
       "      <th>3</th>\n",
       "      <td>536365</td>\n",
       "      <td>84029G</td>\n",
       "      <td>KNITTED UNION FLAG HOT WATER BOTTLE</td>\n",
       "      <td>6</td>\n",
       "      <td>12/1/2010 8:26</td>\n",
       "      <td>3.39</td>\n",
       "      <td>17850.0</td>\n",
       "      <td>United Kingdom</td>\n",
       "    </tr>\n",
       "    <tr>\n",
       "      <th>4</th>\n",
       "      <td>536365</td>\n",
       "      <td>84029E</td>\n",
       "      <td>RED WOOLLY HOTTIE WHITE HEART.</td>\n",
       "      <td>6</td>\n",
       "      <td>12/1/2010 8:26</td>\n",
       "      <td>3.39</td>\n",
       "      <td>17850.0</td>\n",
       "      <td>United Kingdom</td>\n",
       "    </tr>\n",
       "  </tbody>\n",
       "</table>\n",
       "</div>"
      ],
      "text/plain": [
       "  InvoiceNo StockCode                          Description  Quantity  \\\n",
       "0    536365    85123A   WHITE HANGING HEART T-LIGHT HOLDER         6   \n",
       "1    536365     71053                  WHITE METAL LANTERN         6   \n",
       "2    536365    84406B       CREAM CUPID HEARTS COAT HANGER         8   \n",
       "3    536365    84029G  KNITTED UNION FLAG HOT WATER BOTTLE         6   \n",
       "4    536365    84029E       RED WOOLLY HOTTIE WHITE HEART.         6   \n",
       "\n",
       "      InvoiceDate  UnitPrice  CustomerID         Country  \n",
       "0  12/1/2010 8:26       2.55     17850.0  United Kingdom  \n",
       "1  12/1/2010 8:26       3.39     17850.0  United Kingdom  \n",
       "2  12/1/2010 8:26       2.75     17850.0  United Kingdom  \n",
       "3  12/1/2010 8:26       3.39     17850.0  United Kingdom  \n",
       "4  12/1/2010 8:26       3.39     17850.0  United Kingdom  "
      ]
     },
     "execution_count": 54,
     "metadata": {},
     "output_type": "execute_result"
    }
   ],
   "source": [
    "df= pd.read_csv('data.csv', header=0)\n",
    "df.head()"
   ]
  },
  {
   "cell_type": "markdown",
   "id": "659deeec-7f68-41f2-b8e2-3c6404f79be9",
   "metadata": {},
   "source": [
    "# Creating a connection object to the SQL Database"
   ]
  },
  {
   "cell_type": "code",
   "execution_count": 55,
   "id": "6ec18d79-6c2c-4c5b-ab0a-cf4606f62180",
   "metadata": {},
   "outputs": [],
   "source": [
    "conn= sqlite3.connect('portefolio_database.db')"
   ]
  },
  {
   "cell_type": "markdown",
   "id": "b451f52f-868d-4590-bc3f-0a6fde49f79d",
   "metadata": {},
   "source": [
    "# Loading the dataset to the Database"
   ]
  },
  {
   "cell_type": "code",
   "execution_count": 56,
   "id": "a02bc1a6-e30f-4aa1-9210-59cff06f92e0",
   "metadata": {},
   "outputs": [],
   "source": [
    "df.to_sql('ecom_data', con=conn, if_exists='replace', index=False)\n",
    "conn.close()"
   ]
  },
  {
   "cell_type": "markdown",
   "id": "c7747054-e217-49d5-b9e4-d95a82a390d9",
   "metadata": {},
   "source": [
    "# Connecting to the SQL Database using the SQLite3 magic function"
   ]
  },
  {
   "cell_type": "code",
   "execution_count": 57,
   "id": "0e1960d4-6ef2-4438-bd05-a79a003bd462",
   "metadata": {},
   "outputs": [
    {
     "name": "stdout",
     "output_type": "stream",
     "text": [
      "The sql extension is already loaded. To reload it, use:\n",
      "  %reload_ext sql\n"
     ]
    }
   ],
   "source": [
    "%load_ext sql\n",
    "%config SqlMagic.style = '_DEPRECATED_DEFAULT'\n",
    "%sql sqlite:///portefolio_database.db"
   ]
  },
  {
   "cell_type": "markdown",
   "id": "29bec8d5-d185-43ed-b72a-d6c05187be56",
   "metadata": {},
   "source": [
    "# Selecting all the data from the ecom_data table "
   ]
  },
  {
   "cell_type": "code",
   "execution_count": 58,
   "id": "f8207174-d2a6-4b2b-bec5-4aef9cf3dfc5",
   "metadata": {},
   "outputs": [
    {
     "name": "stdout",
     "output_type": "stream",
     "text": [
      " * sqlite:///portefolio_database.db\n",
      "Done.\n"
     ]
    },
    {
     "data": {
      "text/html": [
       "<table>\n",
       "    <thead>\n",
       "        <tr>\n",
       "            <th>InvoiceNo</th>\n",
       "            <th>StockCode</th>\n",
       "            <th>Description</th>\n",
       "            <th>Quantity</th>\n",
       "            <th>InvoiceDate</th>\n",
       "            <th>UnitPrice</th>\n",
       "            <th>CustomerID</th>\n",
       "            <th>Country</th>\n",
       "        </tr>\n",
       "    </thead>\n",
       "    <tbody>\n",
       "        <tr>\n",
       "            <td>536365</td>\n",
       "            <td>85123A</td>\n",
       "            <td>WHITE HANGING HEART T-LIGHT HOLDER</td>\n",
       "            <td>6</td>\n",
       "            <td>12/1/2010 8:26</td>\n",
       "            <td>2.55</td>\n",
       "            <td>17850.0</td>\n",
       "            <td>United Kingdom</td>\n",
       "        </tr>\n",
       "        <tr>\n",
       "            <td>536365</td>\n",
       "            <td>71053</td>\n",
       "            <td>WHITE METAL LANTERN</td>\n",
       "            <td>6</td>\n",
       "            <td>12/1/2010 8:26</td>\n",
       "            <td>3.39</td>\n",
       "            <td>17850.0</td>\n",
       "            <td>United Kingdom</td>\n",
       "        </tr>\n",
       "        <tr>\n",
       "            <td>536365</td>\n",
       "            <td>84406B</td>\n",
       "            <td>CREAM CUPID HEARTS COAT HANGER</td>\n",
       "            <td>8</td>\n",
       "            <td>12/1/2010 8:26</td>\n",
       "            <td>2.75</td>\n",
       "            <td>17850.0</td>\n",
       "            <td>United Kingdom</td>\n",
       "        </tr>\n",
       "        <tr>\n",
       "            <td>536365</td>\n",
       "            <td>84029G</td>\n",
       "            <td>KNITTED UNION FLAG HOT WATER BOTTLE</td>\n",
       "            <td>6</td>\n",
       "            <td>12/1/2010 8:26</td>\n",
       "            <td>3.39</td>\n",
       "            <td>17850.0</td>\n",
       "            <td>United Kingdom</td>\n",
       "        </tr>\n",
       "        <tr>\n",
       "            <td>536365</td>\n",
       "            <td>84029E</td>\n",
       "            <td>RED WOOLLY HOTTIE WHITE HEART.</td>\n",
       "            <td>6</td>\n",
       "            <td>12/1/2010 8:26</td>\n",
       "            <td>3.39</td>\n",
       "            <td>17850.0</td>\n",
       "            <td>United Kingdom</td>\n",
       "        </tr>\n",
       "    </tbody>\n",
       "</table>"
      ],
      "text/plain": [
       "[('536365', '85123A', 'WHITE HANGING HEART T-LIGHT HOLDER', 6, '12/1/2010 8:26', 2.55, 17850.0, 'United Kingdom'),\n",
       " ('536365', '71053', 'WHITE METAL LANTERN', 6, '12/1/2010 8:26', 3.39, 17850.0, 'United Kingdom'),\n",
       " ('536365', '84406B', 'CREAM CUPID HEARTS COAT HANGER', 8, '12/1/2010 8:26', 2.75, 17850.0, 'United Kingdom'),\n",
       " ('536365', '84029G', 'KNITTED UNION FLAG HOT WATER BOTTLE', 6, '12/1/2010 8:26', 3.39, 17850.0, 'United Kingdom'),\n",
       " ('536365', '84029E', 'RED WOOLLY HOTTIE WHITE HEART.', 6, '12/1/2010 8:26', 3.39, 17850.0, 'United Kingdom')]"
      ]
     },
     "execution_count": 58,
     "metadata": {},
     "output_type": "execute_result"
    }
   ],
   "source": [
    "%sql \"SELECT * FROM ecom_data LIMIT 5\""
   ]
  },
  {
   "cell_type": "markdown",
   "id": "89c9c8cb-a0ef-400f-a788-53656364b4ad",
   "metadata": {},
   "source": [
    "# Selecting all the data from the StockCode column of the ecom_data"
   ]
  },
  {
   "cell_type": "code",
   "execution_count": 59,
   "id": "66c3f052-463b-4020-b6b7-fa1081f815a3",
   "metadata": {},
   "outputs": [
    {
     "name": "stdout",
     "output_type": "stream",
     "text": [
      " * sqlite:///portefolio_database.db\n",
      "Done.\n"
     ]
    },
    {
     "data": {
      "text/html": [
       "<table>\n",
       "    <thead>\n",
       "        <tr>\n",
       "            <th>StockCode</th>\n",
       "        </tr>\n",
       "    </thead>\n",
       "    <tbody>\n",
       "        <tr>\n",
       "            <td>85123A</td>\n",
       "        </tr>\n",
       "        <tr>\n",
       "            <td>71053</td>\n",
       "        </tr>\n",
       "        <tr>\n",
       "            <td>84406B</td>\n",
       "        </tr>\n",
       "        <tr>\n",
       "            <td>84029G</td>\n",
       "        </tr>\n",
       "        <tr>\n",
       "            <td>84029E</td>\n",
       "        </tr>\n",
       "    </tbody>\n",
       "</table>"
      ],
      "text/plain": [
       "[('85123A',), ('71053',), ('84406B',), ('84029G',), ('84029E',)]"
      ]
     },
     "execution_count": 59,
     "metadata": {},
     "output_type": "execute_result"
    }
   ],
   "source": [
    "%sql \"SELECT StockCode FROM ecom_data LIMIT 5\""
   ]
  },
  {
   "cell_type": "markdown",
   "id": "083daa2e-386f-4a73-a77c-c8b45feebbbc",
   "metadata": {},
   "source": [
    "# Selecting all the items ordered from the table where the quantity ordered is greater than 6"
   ]
  },
  {
   "cell_type": "code",
   "execution_count": 60,
   "id": "47f1d9f2-b35a-4e9d-9dd4-c987229f1ff8",
   "metadata": {},
   "outputs": [
    {
     "name": "stdout",
     "output_type": "stream",
     "text": [
      " * sqlite:///portefolio_database.db\n",
      "Done.\n"
     ]
    },
    {
     "data": {
      "text/html": [
       "<table>\n",
       "    <thead>\n",
       "        <tr>\n",
       "            <th>InvoiceNo</th>\n",
       "            <th>StockCode</th>\n",
       "            <th>Description</th>\n",
       "            <th>Quantity</th>\n",
       "            <th>InvoiceDate</th>\n",
       "            <th>UnitPrice</th>\n",
       "            <th>CustomerID</th>\n",
       "            <th>Country</th>\n",
       "        </tr>\n",
       "    </thead>\n",
       "    <tbody>\n",
       "        <tr>\n",
       "            <td>536365</td>\n",
       "            <td>84406B</td>\n",
       "            <td>CREAM CUPID HEARTS COAT HANGER</td>\n",
       "            <td>8</td>\n",
       "            <td>12/1/2010 8:26</td>\n",
       "            <td>2.75</td>\n",
       "            <td>17850.0</td>\n",
       "            <td>United Kingdom</td>\n",
       "        </tr>\n",
       "        <tr>\n",
       "            <td>536367</td>\n",
       "            <td>84879</td>\n",
       "            <td>ASSORTED COLOUR BIRD ORNAMENT</td>\n",
       "            <td>32</td>\n",
       "            <td>12/1/2010 8:34</td>\n",
       "            <td>1.69</td>\n",
       "            <td>13047.0</td>\n",
       "            <td>United Kingdom</td>\n",
       "        </tr>\n",
       "        <tr>\n",
       "            <td>536367</td>\n",
       "            <td>22749</td>\n",
       "            <td>FELTCRAFT PRINCESS CHARLOTTE DOLL</td>\n",
       "            <td>8</td>\n",
       "            <td>12/1/2010 8:34</td>\n",
       "            <td>3.75</td>\n",
       "            <td>13047.0</td>\n",
       "            <td>United Kingdom</td>\n",
       "        </tr>\n",
       "        <tr>\n",
       "            <td>536370</td>\n",
       "            <td>22728</td>\n",
       "            <td>ALARM CLOCK BAKELIKE PINK</td>\n",
       "            <td>24</td>\n",
       "            <td>12/1/2010 8:45</td>\n",
       "            <td>3.75</td>\n",
       "            <td>12583.0</td>\n",
       "            <td>France</td>\n",
       "        </tr>\n",
       "        <tr>\n",
       "            <td>536370</td>\n",
       "            <td>22727</td>\n",
       "            <td>ALARM CLOCK BAKELIKE RED </td>\n",
       "            <td>24</td>\n",
       "            <td>12/1/2010 8:45</td>\n",
       "            <td>3.75</td>\n",
       "            <td>12583.0</td>\n",
       "            <td>France</td>\n",
       "        </tr>\n",
       "    </tbody>\n",
       "</table>"
      ],
      "text/plain": [
       "[('536365', '84406B', 'CREAM CUPID HEARTS COAT HANGER', 8, '12/1/2010 8:26', 2.75, 17850.0, 'United Kingdom'),\n",
       " ('536367', '84879', 'ASSORTED COLOUR BIRD ORNAMENT', 32, '12/1/2010 8:34', 1.69, 13047.0, 'United Kingdom'),\n",
       " ('536367', '22749', 'FELTCRAFT PRINCESS CHARLOTTE DOLL', 8, '12/1/2010 8:34', 3.75, 13047.0, 'United Kingdom'),\n",
       " ('536370', '22728', 'ALARM CLOCK BAKELIKE PINK', 24, '12/1/2010 8:45', 3.75, 12583.0, 'France'),\n",
       " ('536370', '22727', 'ALARM CLOCK BAKELIKE RED ', 24, '12/1/2010 8:45', 3.75, 12583.0, 'France')]"
      ]
     },
     "execution_count": 60,
     "metadata": {},
     "output_type": "execute_result"
    }
   ],
   "source": [
    "%sql \"SELECT * FROM ecom_data WHERE Quantity > 6 LIMIT 5\""
   ]
  },
  {
   "cell_type": "markdown",
   "id": "a4ea20a7-21ba-43e1-8687-d9db6e47db37",
   "metadata": {},
   "source": [
    "# Selecting all the orders from 2011 with a quantity of all the items bigger than 6"
   ]
  },
  {
   "cell_type": "code",
   "execution_count": 66,
   "id": "c426d39a-20fe-4b87-8165-99d100cead09",
   "metadata": {},
   "outputs": [
    {
     "name": "stdout",
     "output_type": "stream",
     "text": [
      " * sqlite:///portefolio_database.db\n",
      "Done.\n"
     ]
    },
    {
     "data": {
      "text/html": [
       "<table>\n",
       "    <thead>\n",
       "        <tr>\n",
       "            <th>InvoiceNo</th>\n",
       "            <th>StockCode</th>\n",
       "            <th>Description</th>\n",
       "            <th>Quantity</th>\n",
       "            <th>InvoiceDate</th>\n",
       "            <th>UnitPrice</th>\n",
       "            <th>CustomerID</th>\n",
       "            <th>Country</th>\n",
       "        </tr>\n",
       "    </thead>\n",
       "    <tbody>\n",
       "        <tr>\n",
       "            <td>539993</td>\n",
       "            <td>22386</td>\n",
       "            <td>JUMBO BAG PINK POLKADOT</td>\n",
       "            <td>10</td>\n",
       "            <td>1/4/2011 10:00</td>\n",
       "            <td>1.95</td>\n",
       "            <td>13313.0</td>\n",
       "            <td>United Kingdom</td>\n",
       "        </tr>\n",
       "        <tr>\n",
       "            <td>539993</td>\n",
       "            <td>21499</td>\n",
       "            <td>BLUE POLKADOT WRAP</td>\n",
       "            <td>25</td>\n",
       "            <td>1/4/2011 10:00</td>\n",
       "            <td>0.42</td>\n",
       "            <td>13313.0</td>\n",
       "            <td>United Kingdom</td>\n",
       "        </tr>\n",
       "        <tr>\n",
       "            <td>539993</td>\n",
       "            <td>21498</td>\n",
       "            <td>RED RETROSPOT WRAP </td>\n",
       "            <td>25</td>\n",
       "            <td>1/4/2011 10:00</td>\n",
       "            <td>0.42</td>\n",
       "            <td>13313.0</td>\n",
       "            <td>United Kingdom</td>\n",
       "        </tr>\n",
       "        <tr>\n",
       "            <td>539993</td>\n",
       "            <td>20718</td>\n",
       "            <td>RED RETROSPOT SHOPPER BAG</td>\n",
       "            <td>10</td>\n",
       "            <td>1/4/2011 10:00</td>\n",
       "            <td>1.25</td>\n",
       "            <td>13313.0</td>\n",
       "            <td>United Kingdom</td>\n",
       "        </tr>\n",
       "        <tr>\n",
       "            <td>539993</td>\n",
       "            <td>85099B</td>\n",
       "            <td>JUMBO BAG RED RETROSPOT</td>\n",
       "            <td>10</td>\n",
       "            <td>1/4/2011 10:00</td>\n",
       "            <td>1.95</td>\n",
       "            <td>13313.0</td>\n",
       "            <td>United Kingdom</td>\n",
       "        </tr>\n",
       "    </tbody>\n",
       "</table>"
      ],
      "text/plain": [
       "[('539993', '22386', 'JUMBO BAG PINK POLKADOT', 10, '1/4/2011 10:00', 1.95, 13313.0, 'United Kingdom'),\n",
       " ('539993', '21499', 'BLUE POLKADOT WRAP', 25, '1/4/2011 10:00', 0.42, 13313.0, 'United Kingdom'),\n",
       " ('539993', '21498', 'RED RETROSPOT WRAP ', 25, '1/4/2011 10:00', 0.42, 13313.0, 'United Kingdom'),\n",
       " ('539993', '20718', 'RED RETROSPOT SHOPPER BAG', 10, '1/4/2011 10:00', 1.25, 13313.0, 'United Kingdom'),\n",
       " ('539993', '85099B', 'JUMBO BAG RED RETROSPOT', 10, '1/4/2011 10:00', 1.95, 13313.0, 'United Kingdom')]"
      ]
     },
     "execution_count": 66,
     "metadata": {},
     "output_type": "execute_result"
    }
   ],
   "source": [
    "%sql \"SELECT * FROM ecom_data WHERE Quantity > 6 AND InvoiceDate LIKE '%2011%%' LIMIT 5\""
   ]
  },
  {
   "cell_type": "markdown",
   "id": "d2119aca-6172-4006-ad67-8714141ae349",
   "metadata": {},
   "source": [
    "# Showing the total price of each unique order"
   ]
  },
  {
   "cell_type": "code",
   "execution_count": 73,
   "id": "98c9e972-9691-49b1-a578-391c51f79970",
   "metadata": {},
   "outputs": [
    {
     "name": "stdout",
     "output_type": "stream",
     "text": [
      " * sqlite:///portefolio_database.db\n",
      "Done.\n"
     ]
    },
    {
     "data": {
      "text/html": [
       "<table>\n",
       "    <thead>\n",
       "        <tr>\n",
       "            <th>InvoiceNo</th>\n",
       "            <th>TotalPrice</th>\n",
       "        </tr>\n",
       "    </thead>\n",
       "    <tbody>\n",
       "        <tr>\n",
       "            <td>536365</td>\n",
       "            <td>139.12</td>\n",
       "        </tr>\n",
       "        <tr>\n",
       "            <td>536366</td>\n",
       "            <td>22.2</td>\n",
       "        </tr>\n",
       "        <tr>\n",
       "            <td>536367</td>\n",
       "            <td>278.73</td>\n",
       "        </tr>\n",
       "        <tr>\n",
       "            <td>536368</td>\n",
       "            <td>70.05</td>\n",
       "        </tr>\n",
       "        <tr>\n",
       "            <td>536369</td>\n",
       "            <td>17.85</td>\n",
       "        </tr>\n",
       "    </tbody>\n",
       "</table>"
      ],
      "text/plain": [
       "[('536365', 139.12),\n",
       " ('536366', 22.2),\n",
       " ('536367', 278.73),\n",
       " ('536368', 70.05),\n",
       " ('536369', 17.85)]"
      ]
     },
     "execution_count": 73,
     "metadata": {},
     "output_type": "execute_result"
    }
   ],
   "source": [
    "%sql \"SELECT InvoiceNo, SUM(ROUND(Quantity*UnitPrice, 2)) AS TotalPrice FROM ecom_data GROUP BY InvoiceNo LIMIT 5\""
   ]
  },
  {
   "cell_type": "markdown",
   "id": "0c56183a-4b7e-418c-88c8-2618b88bba37",
   "metadata": {},
   "source": [
    "# Showing how many orders were placed in each country"
   ]
  },
  {
   "cell_type": "code",
   "execution_count": 76,
   "id": "056dcd81-346f-430f-8d82-1510ceedc4f9",
   "metadata": {},
   "outputs": [
    {
     "name": "stdout",
     "output_type": "stream",
     "text": [
      " * sqlite:///portefolio_database.db\n",
      "Done.\n"
     ]
    },
    {
     "data": {
      "text/html": [
       "<table>\n",
       "    <thead>\n",
       "        <tr>\n",
       "            <th>Country</th>\n",
       "            <th>total_orders</th>\n",
       "        </tr>\n",
       "    </thead>\n",
       "    <tbody>\n",
       "        <tr>\n",
       "            <td>Australia</td>\n",
       "            <td>69</td>\n",
       "        </tr>\n",
       "        <tr>\n",
       "            <td>Austria</td>\n",
       "            <td>19</td>\n",
       "        </tr>\n",
       "        <tr>\n",
       "            <td>Bahrain</td>\n",
       "            <td>4</td>\n",
       "        </tr>\n",
       "        <tr>\n",
       "            <td>Belgium</td>\n",
       "            <td>119</td>\n",
       "        </tr>\n",
       "        <tr>\n",
       "            <td>Brazil</td>\n",
       "            <td>1</td>\n",
       "        </tr>\n",
       "        <tr>\n",
       "            <td>Canada</td>\n",
       "            <td>6</td>\n",
       "        </tr>\n",
       "        <tr>\n",
       "            <td>Channel Islands</td>\n",
       "            <td>33</td>\n",
       "        </tr>\n",
       "        <tr>\n",
       "            <td>Cyprus</td>\n",
       "            <td>20</td>\n",
       "        </tr>\n",
       "        <tr>\n",
       "            <td>Czech Republic</td>\n",
       "            <td>5</td>\n",
       "        </tr>\n",
       "        <tr>\n",
       "            <td>Denmark</td>\n",
       "            <td>21</td>\n",
       "        </tr>\n",
       "        <tr>\n",
       "            <td>EIRE</td>\n",
       "            <td>360</td>\n",
       "        </tr>\n",
       "        <tr>\n",
       "            <td>European Community</td>\n",
       "            <td>5</td>\n",
       "        </tr>\n",
       "        <tr>\n",
       "            <td>Finland</td>\n",
       "            <td>48</td>\n",
       "        </tr>\n",
       "        <tr>\n",
       "            <td>France</td>\n",
       "            <td>461</td>\n",
       "        </tr>\n",
       "        <tr>\n",
       "            <td>Germany</td>\n",
       "            <td>603</td>\n",
       "        </tr>\n",
       "        <tr>\n",
       "            <td>Greece</td>\n",
       "            <td>6</td>\n",
       "        </tr>\n",
       "        <tr>\n",
       "            <td>Hong Kong</td>\n",
       "            <td>15</td>\n",
       "        </tr>\n",
       "        <tr>\n",
       "            <td>Iceland</td>\n",
       "            <td>7</td>\n",
       "        </tr>\n",
       "        <tr>\n",
       "            <td>Israel</td>\n",
       "            <td>9</td>\n",
       "        </tr>\n",
       "        <tr>\n",
       "            <td>Italy</td>\n",
       "            <td>55</td>\n",
       "        </tr>\n",
       "        <tr>\n",
       "            <td>Japan</td>\n",
       "            <td>28</td>\n",
       "        </tr>\n",
       "        <tr>\n",
       "            <td>Lebanon</td>\n",
       "            <td>1</td>\n",
       "        </tr>\n",
       "        <tr>\n",
       "            <td>Lithuania</td>\n",
       "            <td>4</td>\n",
       "        </tr>\n",
       "        <tr>\n",
       "            <td>Malta</td>\n",
       "            <td>10</td>\n",
       "        </tr>\n",
       "        <tr>\n",
       "            <td>Netherlands</td>\n",
       "            <td>101</td>\n",
       "        </tr>\n",
       "        <tr>\n",
       "            <td>Norway</td>\n",
       "            <td>40</td>\n",
       "        </tr>\n",
       "        <tr>\n",
       "            <td>Poland</td>\n",
       "            <td>24</td>\n",
       "        </tr>\n",
       "        <tr>\n",
       "            <td>Portugal</td>\n",
       "            <td>71</td>\n",
       "        </tr>\n",
       "        <tr>\n",
       "            <td>RSA</td>\n",
       "            <td>1</td>\n",
       "        </tr>\n",
       "        <tr>\n",
       "            <td>Saudi Arabia</td>\n",
       "            <td>2</td>\n",
       "        </tr>\n",
       "        <tr>\n",
       "            <td>Singapore</td>\n",
       "            <td>10</td>\n",
       "        </tr>\n",
       "        <tr>\n",
       "            <td>Spain</td>\n",
       "            <td>105</td>\n",
       "        </tr>\n",
       "        <tr>\n",
       "            <td>Sweden</td>\n",
       "            <td>46</td>\n",
       "        </tr>\n",
       "        <tr>\n",
       "            <td>Switzerland</td>\n",
       "            <td>74</td>\n",
       "        </tr>\n",
       "        <tr>\n",
       "            <td>USA</td>\n",
       "            <td>7</td>\n",
       "        </tr>\n",
       "        <tr>\n",
       "            <td>United Arab Emirates</td>\n",
       "            <td>3</td>\n",
       "        </tr>\n",
       "        <tr>\n",
       "            <td>United Kingdom</td>\n",
       "            <td>23494</td>\n",
       "        </tr>\n",
       "        <tr>\n",
       "            <td>Unspecified</td>\n",
       "            <td>13</td>\n",
       "        </tr>\n",
       "    </tbody>\n",
       "</table>"
      ],
      "text/plain": [
       "[('Australia', 69),\n",
       " ('Austria', 19),\n",
       " ('Bahrain', 4),\n",
       " ('Belgium', 119),\n",
       " ('Brazil', 1),\n",
       " ('Canada', 6),\n",
       " ('Channel Islands', 33),\n",
       " ('Cyprus', 20),\n",
       " ('Czech Republic', 5),\n",
       " ('Denmark', 21),\n",
       " ('EIRE', 360),\n",
       " ('European Community', 5),\n",
       " ('Finland', 48),\n",
       " ('France', 461),\n",
       " ('Germany', 603),\n",
       " ('Greece', 6),\n",
       " ('Hong Kong', 15),\n",
       " ('Iceland', 7),\n",
       " ('Israel', 9),\n",
       " ('Italy', 55),\n",
       " ('Japan', 28),\n",
       " ('Lebanon', 1),\n",
       " ('Lithuania', 4),\n",
       " ('Malta', 10),\n",
       " ('Netherlands', 101),\n",
       " ('Norway', 40),\n",
       " ('Poland', 24),\n",
       " ('Portugal', 71),\n",
       " ('RSA', 1),\n",
       " ('Saudi Arabia', 2),\n",
       " ('Singapore', 10),\n",
       " ('Spain', 105),\n",
       " ('Sweden', 46),\n",
       " ('Switzerland', 74),\n",
       " ('USA', 7),\n",
       " ('United Arab Emirates', 3),\n",
       " ('United Kingdom', 23494),\n",
       " ('Unspecified', 13)]"
      ]
     },
     "execution_count": 76,
     "metadata": {},
     "output_type": "execute_result"
    }
   ],
   "source": [
    "%sql \"SELECT Country, COUNT(DISTINCT(InvoiceNo)) AS total_orders FROM ecom_data GROUP BY Country\""
   ]
  },
  {
   "cell_type": "markdown",
   "id": "1505f98c-b24f-4028-b70c-060eb9fa4ec5",
   "metadata": {},
   "source": [
    "# Showing the total quantity sold of the top ten items"
   ]
  },
  {
   "cell_type": "code",
   "execution_count": 77,
   "id": "52f7c743-abb5-4acd-81fe-46d99d6a0204",
   "metadata": {},
   "outputs": [
    {
     "name": "stdout",
     "output_type": "stream",
     "text": [
      " * sqlite:///portefolio_database.db\n",
      "Done.\n"
     ]
    },
    {
     "data": {
      "text/html": [
       "<table>\n",
       "    <thead>\n",
       "        <tr>\n",
       "            <th>Description</th>\n",
       "            <th>total_quantity_sold</th>\n",
       "        </tr>\n",
       "    </thead>\n",
       "    <tbody>\n",
       "        <tr>\n",
       "            <td>WORLD WAR 2 GLIDERS ASSTD DESIGNS</td>\n",
       "            <td>53847</td>\n",
       "        </tr>\n",
       "        <tr>\n",
       "            <td>JUMBO BAG RED RETROSPOT</td>\n",
       "            <td>47363</td>\n",
       "        </tr>\n",
       "        <tr>\n",
       "            <td>ASSORTED COLOUR BIRD ORNAMENT</td>\n",
       "            <td>36381</td>\n",
       "        </tr>\n",
       "        <tr>\n",
       "            <td>POPCORN HOLDER</td>\n",
       "            <td>36334</td>\n",
       "        </tr>\n",
       "        <tr>\n",
       "            <td>PACK OF 72 RETROSPOT CAKE CASES</td>\n",
       "            <td>36039</td>\n",
       "        </tr>\n",
       "        <tr>\n",
       "            <td>WHITE HANGING HEART T-LIGHT HOLDER</td>\n",
       "            <td>35317</td>\n",
       "        </tr>\n",
       "        <tr>\n",
       "            <td>RABBIT NIGHT LIGHT</td>\n",
       "            <td>30680</td>\n",
       "        </tr>\n",
       "        <tr>\n",
       "            <td>MINI PAINT SET VINTAGE </td>\n",
       "            <td>26437</td>\n",
       "        </tr>\n",
       "        <tr>\n",
       "            <td>PACK OF 12 LONDON TISSUES </td>\n",
       "            <td>26315</td>\n",
       "        </tr>\n",
       "        <tr>\n",
       "            <td>PACK OF 60 PINK PAISLEY CAKE CASES</td>\n",
       "            <td>24753</td>\n",
       "        </tr>\n",
       "    </tbody>\n",
       "</table>"
      ],
      "text/plain": [
       "[('WORLD WAR 2 GLIDERS ASSTD DESIGNS', 53847),\n",
       " ('JUMBO BAG RED RETROSPOT', 47363),\n",
       " ('ASSORTED COLOUR BIRD ORNAMENT', 36381),\n",
       " ('POPCORN HOLDER', 36334),\n",
       " ('PACK OF 72 RETROSPOT CAKE CASES', 36039),\n",
       " ('WHITE HANGING HEART T-LIGHT HOLDER', 35317),\n",
       " ('RABBIT NIGHT LIGHT', 30680),\n",
       " ('MINI PAINT SET VINTAGE ', 26437),\n",
       " ('PACK OF 12 LONDON TISSUES ', 26315),\n",
       " ('PACK OF 60 PINK PAISLEY CAKE CASES', 24753)]"
      ]
     },
     "execution_count": 77,
     "metadata": {},
     "output_type": "execute_result"
    }
   ],
   "source": [
    "%sql \"SELECT Description, SUM(Quantity) AS total_quantity_sold FROM ecom_data GROUP BY Description ORDER BY total_quantity_sold DESC LIMIT 10\""
   ]
  },
  {
   "cell_type": "code",
   "execution_count": null,
   "id": "e5e6c9e7-89a3-426a-8bd2-60c274db821a",
   "metadata": {},
   "outputs": [],
   "source": []
  }
 ],
 "metadata": {
  "kernelspec": {
   "display_name": "Python (ecomana)",
   "language": "python",
   "name": "ecomana"
  },
  "language_info": {
   "codemirror_mode": {
    "name": "ipython",
    "version": 3
   },
   "file_extension": ".py",
   "mimetype": "text/x-python",
   "name": "python",
   "nbconvert_exporter": "python",
   "pygments_lexer": "ipython3",
   "version": "3.10.17"
  }
 },
 "nbformat": 4,
 "nbformat_minor": 5
}
